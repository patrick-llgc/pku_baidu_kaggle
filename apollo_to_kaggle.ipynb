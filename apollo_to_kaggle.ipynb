{
 "cells": [
  {
   "cell_type": "markdown",
   "metadata": {},
   "source": [
    "## Converting data format form apolloScape to Kaggle"
   ]
  },
  {
   "cell_type": "code",
   "execution_count": null,
   "metadata": {},
   "outputs": [],
   "source": [
    "import numpy as np\n",
    "import glob\n",
    "import os\n",
    "import cv2\n",
    "import pandas as pd\n",
    "import seaborn as sns\n",
    "from tqdm import tqdm\n",
    "import json\n",
    "import matplotlib.pylab as plt\n",
    "import numpy as np\n",
    "import glob\n",
    "import os\n",
    "import cv2\n",
    "import pandas as pd\n",
    "import seaborn as sns\n",
    "from tqdm import tqdm\n",
    "\n",
    "%matplotlib inline\n",
    "\n",
    "%load_ext autoreload\n",
    "%autoreload 2"
   ]
  },
  {
   "cell_type": "code",
   "execution_count": null,
   "metadata": {},
   "outputs": [],
   "source": [
    "# https://raw.githubusercontent.com/ApolloScapeAuto/dataset-api/master/car_instance/car_models.py\n",
    "from car_models import car_name2id, car_id2name\n",
    "from utils import euler_to_rot, draw_obj, get_avg_size, get_intrinsics, read_json, write_json\n"
   ]
  },
  {
   "cell_type": "markdown",
   "metadata": {},
   "source": [
    "## load image and render mask"
   ]
  },
  {
   "cell_type": "code",
   "execution_count": null,
   "metadata": {},
   "outputs": [],
   "source": [
    "basedir = '/Users/pliu/Downloads/pku_kaggle_data/'\n",
    "image_dir = '/Users/pliu/Downloads/pku_kaggle_data/train_images'\n",
    "model_dir = '/Users/pliu/Downloads/pku_kaggle_data/car_models_json'"
   ]
  },
  {
   "cell_type": "code",
   "execution_count": null,
   "metadata": {},
   "outputs": [],
   "source": [
    "from car_renderer import Visualizer\n",
    "vis = Visualizer(basedir=basedir, image_dir=image_dir, model_dir=model_dir, save_dir=None)\n",
    "len(vis.model_files)"
   ]
  },
  {
   "cell_type": "code",
   "execution_count": null,
   "metadata": {},
   "outputs": [],
   "source": [
    "# Load an image\n",
    "img_name = 'ID_001d6829a' \n",
    "# img_name = '180116_054054500_Camera_5' \n",
    "img = vis.load_image(img_name)"
   ]
  },
  {
   "cell_type": "code",
   "execution_count": null,
   "metadata": {},
   "outputs": [],
   "source": [
    "# plt.figure(figsize=(20, 20))\n",
    "# plt.imshow(img);"
   ]
  },
  {
   "cell_type": "code",
   "execution_count": null,
   "metadata": {},
   "outputs": [],
   "source": [
    "overlay, bboxes = vis.process(img_name)"
   ]
  },
  {
   "cell_type": "code",
   "execution_count": null,
   "metadata": {},
   "outputs": [],
   "source": [
    "plt.figure(figsize=(20, 10))\n",
    "plt.imshow(np.hstack([img, overlay[...]]))"
   ]
  },
  {
   "cell_type": "code",
   "execution_count": null,
   "metadata": {},
   "outputs": [],
   "source": []
  },
  {
   "cell_type": "markdown",
   "metadata": {},
   "source": [
    "## apolloScape renderer api\n",
    "\n"
   ]
  },
  {
   "cell_type": "code",
   "execution_count": null,
   "metadata": {},
   "outputs": [],
   "source": [
    "import sys\n",
    "import argparse\n",
    "apollo_api_dir = '/Users/pliu/github/6DVNET'\n",
    "apollo_api_dir2 = '/Users/pliu/github/6DVNET/tools/ApolloScape_car_instance/'\n",
    "sys.path.append(apollo_api_dir)\n",
    "sys.path.append(apollo_api_dir2)\n",
    "\n",
    "from tools.ApolloScape_car_instance.render_car_mesh import CarPoseVisualizer\n",
    "from collections import namedtuple\n",
    "\n",
    "Args = namedtuple('Args', [\n",
    "    'image_name'        , # The name of a car type\n",
    "    'data_dir'          , # id for specific car type\n",
    "    'save_dir'    , # The name of the car category, 'SUV', 'Sedan' etc\n",
    "    ])"
   ]
  },
  {
   "cell_type": "code",
   "execution_count": null,
   "metadata": {},
   "outputs": [],
   "source": [
    "data_dir = '/Users/pliu/Downloads/3d_car_instance_sample/'\n",
    "save_dir = '/Users/pliu/Downloads/apollo_scape_vis/'\n",
    "image_name = '180116_054054500_Camera_5' #'all'\n",
    "args = Args(image_name=image_name, data_dir=data_dir, save_dir=save_dir)"
   ]
  },
  {
   "cell_type": "code",
   "execution_count": null,
   "metadata": {},
   "outputs": [],
   "source": [
    "settings = 'test'\n",
    "print('Test visualizer')\n",
    "visualizer = CarPoseVisualizer(args)\n",
    "visualizer.load_car_models()\n",
    "if args.image_name.lower() == 'all':\n",
    "    image_name_list = [x[:-4] for x in os.listdir(visualizer._data_config['image_dir'])]\n",
    "else:\n",
    "    image_name_list = [args.image_name]\n",
    "for image_name in tqdm(image_name_list):\n",
    "    visualizer.showAnn(image_name, settings=settings, save_dir=args.save_dir)\n"
   ]
  },
  {
   "cell_type": "code",
   "execution_count": null,
   "metadata": {},
   "outputs": [],
   "source": []
  },
  {
   "cell_type": "markdown",
   "metadata": {},
   "source": [
    "## Rotation matrix representation\n"
   ]
  },
  {
   "cell_type": "code",
   "execution_count": null,
   "metadata": {},
   "outputs": [],
   "source": [
    "rotmat = np.array([[ 0.99885411,  0.02962827,  0.03758506],\n",
    " [ 0.03545985, -0.9855819,  -0.16544157],\n",
    " [ 0.03214141,  0.16658475, -0.98550315]])"
   ]
  },
  {
   "cell_type": "code",
   "execution_count": null,
   "metadata": {},
   "outputs": [],
   "source": [
    "from scipy.spatial.transform import Rotation as R\n",
    "r = R.from_dcm(rotmat)"
   ]
  },
  {
   "cell_type": "code",
   "execution_count": null,
   "metadata": {},
   "outputs": [],
   "source": [
    "# rotational matrix\n",
    "r.as_dcm()"
   ]
  },
  {
   "cell_type": "code",
   "execution_count": null,
   "metadata": {},
   "outputs": [],
   "source": [
    "np.isclose(np.dot(rotmat.T, rotmat), np.eye(3))"
   ]
  },
  {
   "cell_type": "code",
   "execution_count": null,
   "metadata": {},
   "outputs": [],
   "source": [
    "r.as_quat()"
   ]
  },
  {
   "cell_type": "code",
   "execution_count": null,
   "metadata": {},
   "outputs": [],
   "source": [
    "r.as_rotvec()"
   ]
  },
  {
   "cell_type": "code",
   "execution_count": null,
   "metadata": {},
   "outputs": [],
   "source": [
    "r.as_euler('zxy', degrees=True)"
   ]
  },
  {
   "cell_type": "markdown",
   "metadata": {},
   "source": [
    "`zyx` mean first applying z, then y, then x. In other words, `r_x * r_y * r_z`"
   ]
  },
  {
   "cell_type": "code",
   "execution_count": null,
   "metadata": {},
   "outputs": [],
   "source": [
    "r = R.from_euler('zyx', [[90, 45, 30]], degrees=True)\n",
    "r.as_euler('zyx', degrees=True)"
   ]
  },
  {
   "cell_type": "code",
   "execution_count": null,
   "metadata": {},
   "outputs": [],
   "source": [
    "r_z = R.from_euler('z', 90, degrees=True)\n",
    "r_y = R.from_euler('y', 45, degrees=True)\n",
    "r_x = R.from_euler('x', 30, degrees=True)\n",
    "(r_x * r_y * r_z).as_euler('zyx', degrees=True)"
   ]
  },
  {
   "cell_type": "markdown",
   "metadata": {},
   "source": [
    "## apolloScape rotation"
   ]
  },
  {
   "cell_type": "code",
   "execution_count": null,
   "metadata": {},
   "outputs": [],
   "source": [
    "from apollo_to_kaggle import euler_to_rot, euler_angles_to_rotation_matrix"
   ]
  },
  {
   "cell_type": "code",
   "execution_count": null,
   "metadata": {},
   "outputs": [],
   "source": [
    "r = R.from_dcm(euler_angles_to_rotation_matrix([-8, 21.45, 30], degrees=True))"
   ]
  },
  {
   "cell_type": "code",
   "execution_count": null,
   "metadata": {},
   "outputs": [],
   "source": [
    "r.as_euler('xyz', degrees=True)"
   ]
  },
  {
   "cell_type": "markdown",
   "metadata": {},
   "source": [
    "## Kaggle rotation"
   ]
  },
  {
   "cell_type": "code",
   "execution_count": null,
   "metadata": {},
   "outputs": [],
   "source": [
    "r = R.from_dcm(euler_to_rot(-8, 21.45, 30, degrees=True))"
   ]
  },
  {
   "cell_type": "code",
   "execution_count": null,
   "metadata": {},
   "outputs": [],
   "source": [
    "r.as_euler('yxz', degrees=True)"
   ]
  },
  {
   "cell_type": "markdown",
   "metadata": {},
   "source": [
    "Note that the kaggle and apolloScape angle decomposition is different. Kaggle uses a weird decoposition `yxz`"
   ]
  },
  {
   "cell_type": "markdown",
   "metadata": {},
   "source": [
    "## conversion from apollo to kaggle"
   ]
  },
  {
   "cell_type": "code",
   "execution_count": null,
   "metadata": {},
   "outputs": [],
   "source": [
    "from apollo_to_kaggle import convert_apollo_angle_to_kaggle"
   ]
  },
  {
   "cell_type": "markdown",
   "metadata": {},
   "source": [
    "The following expriment explains when yaw is small, angles are good. However when yaw is large, the angles are off"
   ]
  },
  {
   "cell_type": "code",
   "execution_count": null,
   "metadata": {},
   "outputs": [],
   "source": [
    "angle = [-4, 21.45, 30]\n",
    "yaw, pitch, roll = convert_apollo_angle_to_kaggle(angle, degrees=True)\n",
    "kaggle_angle = pitch, yaw, roll  # pitch and yaw are flipped\n",
    "print('apollo {} --> kaggle {}'.format(angle, kaggle_angle))"
   ]
  },
  {
   "cell_type": "code",
   "execution_count": null,
   "metadata": {},
   "outputs": [],
   "source": [
    "angle = [87, 21.45, 30]\n",
    "yaw, pitch, roll = convert_apollo_angle_to_kaggle(angle, degrees=True)\n",
    "kaggle_angle = pitch, yaw, roll  # pitch and yaw are flipped\n",
    "print('apollo {} --> kaggle {}'.format(angle, kaggle_angle))"
   ]
  },
  {
   "cell_type": "code",
   "execution_count": null,
   "metadata": {},
   "outputs": [],
   "source": [
    "# use radian\n",
    "angle = [-1, 0.215, 0.30]\n",
    "yaw, pitch, roll = convert_apollo_angle_to_kaggle(angle, degrees=False)\n",
    "kaggle_angle = pitch, yaw, roll  # pitch and yaw are flipped\n",
    "print('apollo {} --> kaggle {}'.format(angle, kaggle_angle))"
   ]
  },
  {
   "cell_type": "code",
   "execution_count": null,
   "metadata": {},
   "outputs": [],
   "source": [
    "from apollo_to_kaggle import generate_kaggle_train_csv"
   ]
  },
  {
   "cell_type": "code",
   "execution_count": null,
   "metadata": {},
   "outputs": [],
   "source": [
    "## batch conversion\n",
    "data_dir = '/Users/pliu/Downloads/3d_car_instance_sample/'\n",
    "pose_dir = f'{data_dir}/car_poses'\n",
    "image_dir = f'{data_dir}/images'\n",
    "save_path = f'{data_dir}/train.csv'\n",
    "\n",
    "generate_kaggle_train_csv(pose_dir, image_dir, save_path)"
   ]
  },
  {
   "cell_type": "markdown",
   "metadata": {},
   "source": [
    "## sanity check generate train.csv"
   ]
  },
  {
   "cell_type": "code",
   "execution_count": null,
   "metadata": {},
   "outputs": [],
   "source": [
    "basedir = '/Users/pliu/Downloads/3d_car_instance_sample/'\n",
    "image_dir = '/Users/pliu/Downloads/3d_car_instance_sample/images/'\n",
    "model_dir = '/Users/pliu/Downloads/3d_car_instance_sample/car_models_json'"
   ]
  },
  {
   "cell_type": "code",
   "execution_count": null,
   "metadata": {},
   "outputs": [],
   "source": [
    "from car_renderer import Visualizer\n",
    "vis = Visualizer(basedir=basedir, image_dir=image_dir, model_dir=model_dir, save_dir=None)\n",
    "len(vis.model_files)"
   ]
  },
  {
   "cell_type": "code",
   "execution_count": null,
   "metadata": {},
   "outputs": [],
   "source": [
    "# Load an image\n",
    "img_name = '180116_054054500_Camera_5' \n",
    "img = vis.load_image(img_name)"
   ]
  },
  {
   "cell_type": "code",
   "execution_count": null,
   "metadata": {},
   "outputs": [],
   "source": [
    "# plt.figure(figsize=(20, 20))\n",
    "# plt.imshow(img);"
   ]
  },
  {
   "cell_type": "code",
   "execution_count": null,
   "metadata": {},
   "outputs": [],
   "source": [
    "overlay, bboxes = vis.process(img_name)"
   ]
  },
  {
   "cell_type": "code",
   "execution_count": null,
   "metadata": {},
   "outputs": [],
   "source": []
  }
 ],
 "metadata": {
  "kernelspec": {
   "display_name": "Python 3",
   "language": "python",
   "name": "python3"
  },
  "language_info": {
   "codemirror_mode": {
    "name": "ipython",
    "version": 3
   },
   "file_extension": ".py",
   "mimetype": "text/x-python",
   "name": "python",
   "nbconvert_exporter": "python",
   "pygments_lexer": "ipython3",
   "version": "3.7.3"
  }
 },
 "nbformat": 4,
 "nbformat_minor": 2
}
